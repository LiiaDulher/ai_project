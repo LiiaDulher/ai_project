{
  "nbformat": 4,
  "nbformat_minor": 0,
  "metadata": {
    "colab": {
      "name": "Project.ipynb",
      "provenance": []
    },
    "kernelspec": {
      "name": "python3",
      "display_name": "Python 3"
    },
    "language_info": {
      "name": "python"
    }
  },
  "cells": [
    {
      "cell_type": "code",
      "execution_count": 1,
      "metadata": {
        "id": "WSxTCLlxpkMs",
        "colab": {
          "base_uri": "https://localhost:8080/"
        },
        "outputId": "9c5ebf58-f8e3-4756-f97a-bd4d8d4ec8b2"
      },
      "outputs": [
        {
          "output_type": "stream",
          "name": "stdout",
          "text": [
            "Looking in links: https://download.pytorch.org/whl/cpu/torch_stable.html\n",
            "Collecting torch==1.10.0+cpu\n",
            "  Downloading https://download.pytorch.org/whl/cpu/torch-1.10.0%2Bcpu-cp37-cp37m-linux_x86_64.whl (199.3 MB)\n",
            "\u001b[K     |████████████████████████████████| 199.3 MB 57 kB/s \n",
            "\u001b[?25hCollecting torchvision==0.11.1+cpu\n",
            "  Downloading https://download.pytorch.org/whl/cpu/torchvision-0.11.1%2Bcpu-cp37-cp37m-linux_x86_64.whl (16.2 MB)\n",
            "\u001b[K     |████████████████████████████████| 16.2 MB 314 kB/s \n",
            "\u001b[?25hRequirement already satisfied: typing-extensions in /usr/local/lib/python3.7/dist-packages (from torch==1.10.0+cpu) (3.10.0.2)\n",
            "Requirement already satisfied: pillow!=8.3.0,>=5.3.0 in /usr/local/lib/python3.7/dist-packages (from torchvision==0.11.1+cpu) (7.1.2)\n",
            "Requirement already satisfied: numpy in /usr/local/lib/python3.7/dist-packages (from torchvision==0.11.1+cpu) (1.19.5)\n",
            "Installing collected packages: torch, torchvision\n",
            "  Attempting uninstall: torch\n",
            "    Found existing installation: torch 1.10.0+cu111\n",
            "    Uninstalling torch-1.10.0+cu111:\n",
            "      Successfully uninstalled torch-1.10.0+cu111\n",
            "  Attempting uninstall: torchvision\n",
            "    Found existing installation: torchvision 0.11.1+cu111\n",
            "    Uninstalling torchvision-0.11.1+cu111:\n",
            "      Successfully uninstalled torchvision-0.11.1+cu111\n",
            "Successfully installed torch-1.10.0+cpu torchvision-0.11.1+cpu\n",
            "Requirement already satisfied: matplotlib in /usr/local/lib/python3.7/dist-packages (3.2.2)\n",
            "Requirement already satisfied: numpy in /usr/local/lib/python3.7/dist-packages (1.19.5)\n",
            "Requirement already satisfied: torchsummary in /usr/local/lib/python3.7/dist-packages (1.5.1)\n",
            "Requirement already satisfied: tqdm in /usr/local/lib/python3.7/dist-packages (4.62.3)\n",
            "Requirement already satisfied: python-dateutil>=2.1 in /usr/local/lib/python3.7/dist-packages (from matplotlib) (2.8.2)\n",
            "Requirement already satisfied: cycler>=0.10 in /usr/local/lib/python3.7/dist-packages (from matplotlib) (0.11.0)\n",
            "Requirement already satisfied: pyparsing!=2.0.4,!=2.1.2,!=2.1.6,>=2.0.1 in /usr/local/lib/python3.7/dist-packages (from matplotlib) (3.0.6)\n",
            "Requirement already satisfied: kiwisolver>=1.0.1 in /usr/local/lib/python3.7/dist-packages (from matplotlib) (1.3.2)\n",
            "Requirement already satisfied: six>=1.5 in /usr/local/lib/python3.7/dist-packages (from python-dateutil>=2.1->matplotlib) (1.15.0)\n"
          ]
        }
      ],
      "source": [
        "# torch with cpu-only support\n",
        "! pip3 install torch==1.10.0+cpu torchvision==0.11.1+cpu -f https://download.pytorch.org/whl/cpu/torch_stable.html\n",
        "# torch with gpu support\n",
        "# ! pip3 install torch torchvision\n",
        "! pip3 install matplotlib numpy torchsummary tqdm"
      ]
    },
    {
      "cell_type": "code",
      "source": [
        "import numpy as np\n",
        "import torch\n",
        "import matplotlib.pyplot as plt\n",
        "import torchvision\n",
        "from PIL import Image\n",
        "\n",
        "from tqdm import tqdm\n",
        "from torchvision import transforms\n",
        "from torchsummary import summary\n",
        "from torch.utils.data import Dataset"
      ],
      "metadata": {
        "id": "RPd2J_tspqo_"
      },
      "execution_count": 13,
      "outputs": []
    },
    {
      "cell_type": "markdown",
      "source": [
        "# Load dataset\n",
        "(https://www.kaggle.com/dhruvildave/english-handwritten-characters-dataset/version/3)"
      ],
      "metadata": {
        "id": "6l4AuyDEpvXm"
      }
    },
    {
      "cell_type": "code",
      "source": [
        "normalize = transforms.Normalize(mean=[0.485, 0.456, 0.406],std=[0.229, 0.224, 0.225])  # pixel value normalization\n",
        "scale = transforms.Resize([224,224])  # image re-size (to square)\n",
        "tote = transforms.ToTensor()   # transfor to tensor\n",
        "comptran = transforms.Compose([scale,tote,normalize]) # put all transformations together\n",
        "\n",
        "# apply transformations to images after loading"
      ],
      "metadata": {
        "id": "rd4tNMSkptTM"
      },
      "execution_count": 27,
      "outputs": []
    },
    {
      "cell_type": "code",
      "source": [
        "import pandas\n",
        "import zipfile\n",
        "import random"
      ],
      "metadata": {
        "id": "HjfEXe1sbeXD"
      },
      "execution_count": 24,
      "outputs": []
    },
    {
      "cell_type": "code",
      "source": [
        "# Train, valid, test -> 33, 11, 11\n",
        "# split given data, shuffle for training\n",
        "\n",
        "with zipfile.ZipFile(\"archive.zip\", 'r') as zip_ref:\n",
        "    zip_ref.extractall()\n",
        "\n",
        "data = pandas.read_csv(\"english.csv\")\n",
        "image_pathes = data.image\n",
        "class_names = pandas.unique(data.label)"
      ],
      "metadata": {
        "id": "_alUgwSeZZPI"
      },
      "execution_count": 12,
      "outputs": []
    },
    {
      "cell_type": "code",
      "source": [
        "train_images = []\n",
        "valid_images = []\n",
        "test_images = []\n",
        "\n",
        "for i in range(62):\n",
        "  nums = [x for x in range(55)]\n",
        "  random.shuffle(nums)\n",
        "  for j in range(55):\n",
        "    if j < 33:\n",
        "      train_images.append(image_pathes[i*55 + nums[j]])\n",
        "    elif j < 44:\n",
        "      valid_images.append(image_pathes[i*55 + nums[j]])\n",
        "    else:\n",
        "      test_images.append(image_pathes[i*55 + nums[j]])\n",
        "\n",
        "random.shuffle(train_images)"
      ],
      "metadata": {
        "id": "MkMUMMq0hBQ5"
      },
      "execution_count": 36,
      "outputs": []
    },
    {
      "cell_type": "code",
      "source": [
        "class EnglishDataset(Dataset):\n",
        "    def __init__(self, image_paths):\n",
        "        self.image_paths = image_paths\n",
        "        self.transform = comptran\n",
        "        \n",
        "    def __len__(self):\n",
        "        return len(self.image_paths)\n",
        "\n",
        "    def __getitem__(self, idx):\n",
        "        image_filepath = self.image_paths[idx]\n",
        "        img = Image.open(image_filepath)\n",
        "        \n",
        "        label = int(image_filepath.split('/')[1][3:6]) - 1\n",
        "        image = self.transform(img)\n",
        "        # image = torch.unsqueeze(img, 0)\n",
        "        \n",
        "        return image, label"
      ],
      "metadata": {
        "id": "fjjMN7ngfEBB"
      },
      "execution_count": 102,
      "outputs": []
    },
    {
      "cell_type": "code",
      "source": [
        "train_ds = EnglishDataset(train_images)\n",
        "valid_ds = EnglishDataset(valid_images)\n",
        "test_ds = EnglishDataset(test_images)"
      ],
      "metadata": {
        "id": "JnI21sHdgzMV"
      },
      "execution_count": 103,
      "outputs": []
    },
    {
      "cell_type": "markdown",
      "source": [
        "# Define the model"
      ],
      "metadata": {
        "id": "ht_HAYtLp2cF"
      }
    },
    {
      "cell_type": "code",
      "source": [
        "class AlexNet(torch.nn.Module):\n",
        "  def __init__(self):\n",
        "    super().__init__()\n",
        "    c = 3\n",
        "    num_class = 62\n",
        "    self.convlayers = torch.nn.Sequential(\n",
        "        torch.nn.Conv2d(c, 64, kernel_size=11, stride=4, padding=2),\n",
        "        torch.nn.ReLU(inplace=True),\n",
        "        torch.nn.MaxPool2d(kernel_size=3, stride=2),\n",
        "        torch.nn.Conv2d(64, 192, kernel_size=5, padding=2),\n",
        "        torch.nn.ReLU(inplace=True),\n",
        "        torch.nn.MaxPool2d(kernel_size=3, stride=2),\n",
        "        torch.nn.Conv2d(192, 384, kernel_size=3, padding=1),\n",
        "        torch.nn.ReLU(inplace=True),\n",
        "        torch.nn.Conv2d(384, 256, kernel_size=3, padding=1),\n",
        "        torch.nn.ReLU(inplace=True),\n",
        "        torch.nn.Conv2d(256, 256, kernel_size=3, padding=1),\n",
        "        torch.nn.MaxPool2d(kernel_size=3, stride=2)\n",
        "    )\n",
        "\n",
        "    self.average = torch.nn.AdaptiveAvgPool2d(output_size=(6, 6))\n",
        "\n",
        "    self.fc = torch.nn.Sequential(\n",
        "        torch.nn.Dropout(),\n",
        "        torch.nn.Linear(in_features=256*6*6, out_features=4096),\n",
        "        torch.nn.ReLU(inplace=True),\n",
        "        torch.nn.Dropout(),\n",
        "        torch.nn.Linear(in_features=4096, out_features=4096),\n",
        "        torch.nn.ReLU(inplace=True),\n",
        "        torch.nn.Linear(in_features=4096, out_features=num_class)\n",
        "    )\n",
        "\n",
        "  def forward(self, x):\n",
        "        x = self.convlayers(x)\n",
        "        x = self.average(x)\n",
        "        x = torch.flatten(x, 1)\n",
        "        x = self.fc(x)\n",
        "        return x"
      ],
      "metadata": {
        "id": "h54Yc5Hwp5l0"
      },
      "execution_count": 64,
      "outputs": []
    },
    {
      "cell_type": "code",
      "source": [
        "model = AlexNet()"
      ],
      "metadata": {
        "id": "twGJXl75rs7x"
      },
      "execution_count": 65,
      "outputs": []
    },
    {
      "cell_type": "code",
      "source": [
        "input_size = (3, 224, 224)\n",
        "summary(model, input_size=input_size, device='cpu')"
      ],
      "metadata": {
        "id": "lDGW8QvgrvfF",
        "colab": {
          "base_uri": "https://localhost:8080/"
        },
        "outputId": "7d573b6f-47f4-401a-dbc8-b9161775dfb9"
      },
      "execution_count": 66,
      "outputs": [
        {
          "output_type": "stream",
          "name": "stdout",
          "text": [
            "----------------------------------------------------------------\n",
            "        Layer (type)               Output Shape         Param #\n",
            "================================================================\n",
            "            Conv2d-1           [-1, 64, 55, 55]          23,296\n",
            "              ReLU-2           [-1, 64, 55, 55]               0\n",
            "         MaxPool2d-3           [-1, 64, 27, 27]               0\n",
            "            Conv2d-4          [-1, 192, 27, 27]         307,392\n",
            "              ReLU-5          [-1, 192, 27, 27]               0\n",
            "         MaxPool2d-6          [-1, 192, 13, 13]               0\n",
            "            Conv2d-7          [-1, 384, 13, 13]         663,936\n",
            "              ReLU-8          [-1, 384, 13, 13]               0\n",
            "            Conv2d-9          [-1, 256, 13, 13]         884,992\n",
            "             ReLU-10          [-1, 256, 13, 13]               0\n",
            "           Conv2d-11          [-1, 256, 13, 13]         590,080\n",
            "        MaxPool2d-12            [-1, 256, 6, 6]               0\n",
            "AdaptiveAvgPool2d-13            [-1, 256, 6, 6]               0\n",
            "          Dropout-14                 [-1, 9216]               0\n",
            "           Linear-15                 [-1, 4096]      37,752,832\n",
            "             ReLU-16                 [-1, 4096]               0\n",
            "          Dropout-17                 [-1, 4096]               0\n",
            "           Linear-18                 [-1, 4096]      16,781,312\n",
            "             ReLU-19                 [-1, 4096]               0\n",
            "           Linear-20                   [-1, 62]         254,014\n",
            "================================================================\n",
            "Total params: 57,257,854\n",
            "Trainable params: 57,257,854\n",
            "Non-trainable params: 0\n",
            "----------------------------------------------------------------\n",
            "Input size (MB): 0.57\n",
            "Forward/backward pass size (MB): 8.04\n",
            "Params size (MB): 218.42\n",
            "Estimated Total Size (MB): 227.04\n",
            "----------------------------------------------------------------\n"
          ]
        }
      ]
    },
    {
      "cell_type": "markdown",
      "source": [
        "# Training the model"
      ],
      "metadata": {
        "id": "8PINSk9Crwk2"
      }
    },
    {
      "cell_type": "code",
      "source": [
        "device = 'cpu'\n",
        "BATCH_SIZE = 64\n",
        "EPOCHS = 20\n",
        "LR = 0.0005"
      ],
      "metadata": {
        "id": "NHUrI7TfrwJg"
      },
      "execution_count": 82,
      "outputs": []
    },
    {
      "cell_type": "code",
      "source": [
        "model.to(device)"
      ],
      "metadata": {
        "id": "owqYvUgDr4Ik",
        "colab": {
          "base_uri": "https://localhost:8080/"
        },
        "outputId": "ae316292-a414-4a07-d589-98a0a052f24f"
      },
      "execution_count": 83,
      "outputs": [
        {
          "output_type": "execute_result",
          "data": {
            "text/plain": [
              "AlexNet(\n",
              "  (convlayers): Sequential(\n",
              "    (0): Conv2d(3, 64, kernel_size=(11, 11), stride=(4, 4), padding=(2, 2))\n",
              "    (1): ReLU(inplace=True)\n",
              "    (2): MaxPool2d(kernel_size=3, stride=2, padding=0, dilation=1, ceil_mode=False)\n",
              "    (3): Conv2d(64, 192, kernel_size=(5, 5), stride=(1, 1), padding=(2, 2))\n",
              "    (4): ReLU(inplace=True)\n",
              "    (5): MaxPool2d(kernel_size=3, stride=2, padding=0, dilation=1, ceil_mode=False)\n",
              "    (6): Conv2d(192, 384, kernel_size=(3, 3), stride=(1, 1), padding=(1, 1))\n",
              "    (7): ReLU(inplace=True)\n",
              "    (8): Conv2d(384, 256, kernel_size=(3, 3), stride=(1, 1), padding=(1, 1))\n",
              "    (9): ReLU(inplace=True)\n",
              "    (10): Conv2d(256, 256, kernel_size=(3, 3), stride=(1, 1), padding=(1, 1))\n",
              "    (11): MaxPool2d(kernel_size=3, stride=2, padding=0, dilation=1, ceil_mode=False)\n",
              "  )\n",
              "  (average): AdaptiveAvgPool2d(output_size=(6, 6))\n",
              "  (fc): Sequential(\n",
              "    (0): Dropout(p=0.5, inplace=False)\n",
              "    (1): Linear(in_features=9216, out_features=4096, bias=True)\n",
              "    (2): ReLU(inplace=True)\n",
              "    (3): Dropout(p=0.5, inplace=False)\n",
              "    (4): Linear(in_features=4096, out_features=4096, bias=True)\n",
              "    (5): ReLU(inplace=True)\n",
              "    (6): Linear(in_features=4096, out_features=62, bias=True)\n",
              "  )\n",
              ")"
            ]
          },
          "metadata": {},
          "execution_count": 83
        }
      ]
    },
    {
      "cell_type": "code",
      "source": [
        "# define dataloaders\n",
        "train_dataloader = torch.utils.data.DataLoader(\n",
        "    train_ds, batch_size=BATCH_SIZE,\n",
        "    shuffle=True, num_workers=2\n",
        ")\n",
        "valid_dataloader = torch.utils.data.DataLoader(\n",
        "    valid_ds, batch_size=BATCH_SIZE,\n",
        "    shuffle=False, num_workers=2\n",
        ")\n",
        "test_dataloader = torch.utils.data.DataLoader(\n",
        "    test_ds, batch_size=BATCH_SIZE,\n",
        "    shuffle=False, num_workers=2\n",
        ")"
      ],
      "metadata": {
        "id": "7PWgELXjr_2b"
      },
      "execution_count": 104,
      "outputs": []
    },
    {
      "cell_type": "code",
      "source": [
        "batch = next(iter(train_dataloader))"
      ],
      "metadata": {
        "id": "YvkQoN-Jr6CY"
      },
      "execution_count": 76,
      "outputs": []
    },
    {
      "cell_type": "code",
      "source": [
        "# loss function and optimizer \n",
        "optimizer = torch.optim.Adam(model.parameters(), lr=LR)\n",
        "criterion = torch.nn.CrossEntropyLoss()"
      ],
      "metadata": {
        "id": "CtE_9g9dsDlQ"
      },
      "execution_count": 77,
      "outputs": []
    },
    {
      "cell_type": "code",
      "source": [
        "# metric\n",
        "class AccuracyMetric:\n",
        "    def __init__(self):\n",
        "        self.correct, self.total = None, None\n",
        "        self.reset()\n",
        "        \n",
        "    def update(self, y_pred, y_true):\n",
        "        self.correct += torch.sum(y_pred.argmax(-1) == y_true).item()\n",
        "        self.total += y_true.size(0)\n",
        "        \n",
        "    def compute(self):\n",
        "        return self.correct / self.total\n",
        "    \n",
        "    def reset(self):\n",
        "        self.correct = 0\n",
        "        self.total = 0"
      ],
      "metadata": {
        "id": "TmyDRbejsGSj"
      },
      "execution_count": 78,
      "outputs": []
    },
    {
      "cell_type": "code",
      "source": [
        "# training loop\n",
        "train_loss_history = []\n",
        "train_accuracy_history = []\n",
        "\n",
        "accuracy = AccuracyMetric()\n",
        "\n",
        "for epoch in range(1, EPOCHS + 1):\n",
        "    print(f'[INFO] Epoch: {epoch}')\n",
        "    model.train()\n",
        "\n",
        "    batch_train_loss = []\n",
        "\n",
        "    \n",
        "    for X_batch, y_batch in tqdm(train_dataloader):\n",
        "        # perform single training step\n",
        "        model.zero_grad()\n",
        "        X_batch, y_batch = X_batch.to(device), y_batch.to(device)\n",
        "        y_pred = model(X_batch)\n",
        "        \n",
        "        loss = criterion(y_pred, y_batch)\n",
        "        loss.backward()\n",
        "        optimizer.step()\n",
        "        \n",
        "        accuracy.update(y_pred, y_batch)\n",
        "        batch_train_loss.append(loss.item())\n",
        "\n",
        "    mean_epoch_loss = np.mean(batch_train_loss)\n",
        "    train_accuracy = accuracy.compute()\n",
        "    \n",
        "    train_loss_history.append(mean_epoch_loss)\n",
        "    train_accuracy_history.append(train_accuracy)\n",
        "    accuracy.reset()\n",
        "    \n",
        "    print(f'Train loss: {mean_epoch_loss:0.4f}, Accuracy: {train_accuracy: 0.4f}')\n",
        "\n",
        "    model.eval()\n",
        "    for X_batch, y_batch in tqdm(valid_dataloader):\n",
        "        X_batch, y_batch = X_batch.to(device), y_batch.to(device)\n",
        "        y_pred = model(X_batch)\n",
        "        loss = criterion(y_pred, y_batch)\n",
        "\n",
        "        accuracy.update(y_pred, y_batch)\n",
        "    print(f'Validation Accuracy: {accuracy.compute()}')\n",
        "    accuracy.reset()"
      ],
      "metadata": {
        "id": "AxESVeXosKrU",
        "colab": {
          "base_uri": "https://localhost:8080/",
          "height": 414
        },
        "outputId": "50ec0013-aeba-4f78-c4ba-e0332e472173"
      },
      "execution_count": 106,
      "outputs": [
        {
          "output_type": "stream",
          "name": "stdout",
          "text": [
            "[INFO] Epoch: 1\n"
          ]
        },
        {
          "output_type": "stream",
          "name": "stderr",
          "text": [
            "  0%|          | 0/32 [00:11<?, ?it/s]\n"
          ]
        },
        {
          "output_type": "error",
          "ename": "KeyboardInterrupt",
          "evalue": "ignored",
          "traceback": [
            "\u001b[0;31m---------------------------------------------------------------------------\u001b[0m",
            "\u001b[0;31mKeyboardInterrupt\u001b[0m                         Traceback (most recent call last)",
            "\u001b[0;32m<ipython-input-106-83a4327341af>\u001b[0m in \u001b[0;36m<module>\u001b[0;34m()\u001b[0m\n\u001b[1;32m     19\u001b[0m \u001b[0;34m\u001b[0m\u001b[0m\n\u001b[1;32m     20\u001b[0m         \u001b[0mloss\u001b[0m \u001b[0;34m=\u001b[0m \u001b[0mcriterion\u001b[0m\u001b[0;34m(\u001b[0m\u001b[0my_pred\u001b[0m\u001b[0;34m,\u001b[0m \u001b[0my_batch\u001b[0m\u001b[0;34m)\u001b[0m\u001b[0;34m\u001b[0m\u001b[0;34m\u001b[0m\u001b[0m\n\u001b[0;32m---> 21\u001b[0;31m         \u001b[0mloss\u001b[0m\u001b[0;34m.\u001b[0m\u001b[0mbackward\u001b[0m\u001b[0;34m(\u001b[0m\u001b[0;34m)\u001b[0m\u001b[0;34m\u001b[0m\u001b[0;34m\u001b[0m\u001b[0m\n\u001b[0m\u001b[1;32m     22\u001b[0m         \u001b[0moptimizer\u001b[0m\u001b[0;34m.\u001b[0m\u001b[0mstep\u001b[0m\u001b[0;34m(\u001b[0m\u001b[0;34m)\u001b[0m\u001b[0;34m\u001b[0m\u001b[0;34m\u001b[0m\u001b[0m\n\u001b[1;32m     23\u001b[0m \u001b[0;34m\u001b[0m\u001b[0m\n",
            "\u001b[0;32m/usr/local/lib/python3.7/dist-packages/torch/_tensor.py\u001b[0m in \u001b[0;36mbackward\u001b[0;34m(self, gradient, retain_graph, create_graph, inputs)\u001b[0m\n\u001b[1;32m    305\u001b[0m                 \u001b[0mcreate_graph\u001b[0m\u001b[0;34m=\u001b[0m\u001b[0mcreate_graph\u001b[0m\u001b[0;34m,\u001b[0m\u001b[0;34m\u001b[0m\u001b[0;34m\u001b[0m\u001b[0m\n\u001b[1;32m    306\u001b[0m                 inputs=inputs)\n\u001b[0;32m--> 307\u001b[0;31m         \u001b[0mtorch\u001b[0m\u001b[0;34m.\u001b[0m\u001b[0mautograd\u001b[0m\u001b[0;34m.\u001b[0m\u001b[0mbackward\u001b[0m\u001b[0;34m(\u001b[0m\u001b[0mself\u001b[0m\u001b[0;34m,\u001b[0m \u001b[0mgradient\u001b[0m\u001b[0;34m,\u001b[0m \u001b[0mretain_graph\u001b[0m\u001b[0;34m,\u001b[0m \u001b[0mcreate_graph\u001b[0m\u001b[0;34m,\u001b[0m \u001b[0minputs\u001b[0m\u001b[0;34m=\u001b[0m\u001b[0minputs\u001b[0m\u001b[0;34m)\u001b[0m\u001b[0;34m\u001b[0m\u001b[0;34m\u001b[0m\u001b[0m\n\u001b[0m\u001b[1;32m    308\u001b[0m \u001b[0;34m\u001b[0m\u001b[0m\n\u001b[1;32m    309\u001b[0m     \u001b[0;32mdef\u001b[0m \u001b[0mregister_hook\u001b[0m\u001b[0;34m(\u001b[0m\u001b[0mself\u001b[0m\u001b[0;34m,\u001b[0m \u001b[0mhook\u001b[0m\u001b[0;34m)\u001b[0m\u001b[0;34m:\u001b[0m\u001b[0;34m\u001b[0m\u001b[0;34m\u001b[0m\u001b[0m\n",
            "\u001b[0;32m/usr/local/lib/python3.7/dist-packages/torch/autograd/__init__.py\u001b[0m in \u001b[0;36mbackward\u001b[0;34m(tensors, grad_tensors, retain_graph, create_graph, grad_variables, inputs)\u001b[0m\n\u001b[1;32m    154\u001b[0m     Variable._execution_engine.run_backward(\n\u001b[1;32m    155\u001b[0m         \u001b[0mtensors\u001b[0m\u001b[0;34m,\u001b[0m \u001b[0mgrad_tensors_\u001b[0m\u001b[0;34m,\u001b[0m \u001b[0mretain_graph\u001b[0m\u001b[0;34m,\u001b[0m \u001b[0mcreate_graph\u001b[0m\u001b[0;34m,\u001b[0m \u001b[0minputs\u001b[0m\u001b[0;34m,\u001b[0m\u001b[0;34m\u001b[0m\u001b[0;34m\u001b[0m\u001b[0m\n\u001b[0;32m--> 156\u001b[0;31m         allow_unreachable=True, accumulate_grad=True)  # allow_unreachable flag\n\u001b[0m\u001b[1;32m    157\u001b[0m \u001b[0;34m\u001b[0m\u001b[0m\n\u001b[1;32m    158\u001b[0m \u001b[0;34m\u001b[0m\u001b[0m\n",
            "\u001b[0;31mKeyboardInterrupt\u001b[0m: "
          ]
        }
      ]
    },
    {
      "cell_type": "code",
      "source": [
        "# plot learnign curve\n",
        "plt.plot(train_loss_history)\n",
        "plt.plot(train_accuracy_history)\n",
        "\n",
        "plt.title('Learning curves')\n",
        "plt.xlabel('Epoch #')\n",
        "plt.legend(['Train loss', 'Train accuracy']);"
      ],
      "metadata": {
        "id": "U2S8FxsEsUq_"
      },
      "execution_count": null,
      "outputs": []
    },
    {
      "cell_type": "markdown",
      "source": [
        "# Evaluation"
      ],
      "metadata": {
        "id": "dvswZPtMsVWs"
      }
    },
    {
      "cell_type": "code",
      "source": [
        "model.eval()\n",
        "with torch.no_grad():\n",
        "    for X_batch, y_batch in tqdm(test_dataloader):\n",
        "        X_batch, y_batch = X_batch.to(device), y_batch.to(device)\n",
        "        y_pred = model(X_batch)\n",
        "\n",
        "        accuracy.update(y_pred, y_batch)\n",
        "print(f'Test Accuracy: {accuracy.compute()}')"
      ],
      "metadata": {
        "id": "drA8YzDTsXhI"
      },
      "execution_count": null,
      "outputs": []
    },
    {
      "cell_type": "code",
      "source": [
        "X, Y_true, Y_pred = x.cpu(), y.cpu(), y_pred.argmax(-1).cpu()"
      ],
      "metadata": {
        "id": "hboAtPH51zta"
      },
      "execution_count": null,
      "outputs": []
    },
    {
      "cell_type": "code",
      "source": [
        "for i in range(len(X)):\n",
        "  print(\"True: {}, predicted: {}\".format(Y_pred[i], Y_true[i]))"
      ],
      "metadata": {
        "id": "6mG4ZY6I10wX"
      },
      "execution_count": null,
      "outputs": []
    }
  ]
}