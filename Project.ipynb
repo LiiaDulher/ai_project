{
  "nbformat": 4,
  "nbformat_minor": 0,
  "metadata": {
    "colab": {
      "name": "Project.ipynb",
      "provenance": []
    },
    "kernelspec": {
      "name": "python3",
      "display_name": "Python 3"
    },
    "language_info": {
      "name": "python"
    }
  },
  "cells": [
    {
      "cell_type": "code",
      "execution_count": null,
      "metadata": {
        "id": "WSxTCLlxpkMs"
      },
      "outputs": [],
      "source": [
        "# torch with cpu-only support\n",
        "! pip3 install torch==1.10.0+cpu torchvision==0.11.1+cpu -f https://download.pytorch.org/whl/cpu/torch_stable.html\n",
        "# torch with gpu support\n",
        "# ! pip3 install torch torchvision\n",
        "! pip3 install matplotlib numpy torchsummary tqdm"
      ]
    },
    {
      "cell_type": "code",
      "source": [
        "import numpy as np\n",
        "import torch\n",
        "import matplotlib.pyplot as plt\n",
        "import torchvision\n",
        "from PIL import Image\n",
        "\n",
        "from tqdm import tqdm\n",
        "from torchvision import transforms\n",
        "from torchsummary import summary\n",
        "from torch.utils.data import Dataset"
      ],
      "metadata": {
        "id": "RPd2J_tspqo_"
      },
      "execution_count": 2,
      "outputs": []
    },
    {
      "cell_type": "markdown",
      "source": [
        "# Load dataset\n",
        "(https://www.kaggle.com/dhruvildave/english-handwritten-characters-dataset/version/3)"
      ],
      "metadata": {
        "id": "6l4AuyDEpvXm"
      }
    },
    {
      "cell_type": "code",
      "source": [
        "normalize = transforms.Normalize(mean=[0.485, 0.456, 0.406],std=[0.229, 0.224, 0.225])  # pixel value normalization\n",
        "scale = transforms.Resize([224,224])  # image re-size (to square)\n",
        "tote = transforms.ToTensor()   # transfor to tensor\n",
        "comptran = transforms.Compose([scale,tote,normalize]) # put all transformations together\n",
        "\n",
        "# apply transformations to images after loading"
      ],
      "metadata": {
        "id": "rd4tNMSkptTM"
      },
      "execution_count": 3,
      "outputs": []
    },
    {
      "cell_type": "code",
      "source": [
        "import pandas\n",
        "import zipfile\n",
        "import random"
      ],
      "metadata": {
        "id": "HjfEXe1sbeXD"
      },
      "execution_count": 4,
      "outputs": []
    },
    {
      "cell_type": "code",
      "source": [
        "# Train, valid, test -> 33, 11, 11\n",
        "# split given data, shuffle for training\n",
        "\n",
        "with zipfile.ZipFile(\"archive.zip\", 'r') as zip_ref:\n",
        "    zip_ref.extractall()\n",
        "\n",
        "data = pandas.read_csv(\"english.csv\")\n",
        "image_pathes = data.image\n",
        "class_names = pandas.unique(data.label)"
      ],
      "metadata": {
        "id": "_alUgwSeZZPI"
      },
      "execution_count": 5,
      "outputs": []
    },
    {
      "cell_type": "code",
      "source": [
        "train_images = []\n",
        "valid_images = []\n",
        "test_images = []\n",
        "\n",
        "for i in range(62):\n",
        "  nums = [x for x in range(55)]\n",
        "  random.shuffle(nums)\n",
        "  for j in range(55):\n",
        "    if j < 33:\n",
        "      train_images.append(image_pathes[i*55 + nums[j]])\n",
        "    elif j < 44:\n",
        "      valid_images.append(image_pathes[i*55 + nums[j]])\n",
        "      train_images.append(image_pathes[i*55 + nums[j]])\n",
        "    else:\n",
        "      test_images.append(image_pathes[i*55 + nums[j]])\n",
        "\n",
        "random.shuffle(train_images)"
      ],
      "metadata": {
        "id": "MkMUMMq0hBQ5"
      },
      "execution_count": 6,
      "outputs": []
    },
    {
      "cell_type": "code",
      "source": [
        "class EnglishDataset(Dataset):\n",
        "    def __init__(self, image_paths):\n",
        "        self.image_paths = image_paths\n",
        "        self.transform = comptran\n",
        "        \n",
        "    def __len__(self):\n",
        "        return len(self.image_paths)\n",
        "\n",
        "    def __getitem__(self, idx):\n",
        "        image_filepath = self.image_paths[idx]\n",
        "        img = Image.open(image_filepath)\n",
        "        \n",
        "        label = int(image_filepath.split('/')[1][3:6]) - 1\n",
        "        image = self.transform(img)\n",
        "        # image = torch.unsqueeze(img, 0)\n",
        "        \n",
        "        return image, label"
      ],
      "metadata": {
        "id": "fjjMN7ngfEBB"
      },
      "execution_count": 7,
      "outputs": []
    },
    {
      "cell_type": "code",
      "source": [
        "train_ds = EnglishDataset(train_images)\n",
        "valid_ds = EnglishDataset(valid_images)\n",
        "test_ds = EnglishDataset(test_images)"
      ],
      "metadata": {
        "id": "JnI21sHdgzMV"
      },
      "execution_count": 8,
      "outputs": []
    },
    {
      "cell_type": "markdown",
      "source": [
        "# Define the model"
      ],
      "metadata": {
        "id": "ht_HAYtLp2cF"
      }
    },
    {
      "cell_type": "code",
      "source": [
        "class AlexNet(torch.nn.Module):\n",
        "  def __init__(self):\n",
        "    super().__init__()\n",
        "    c = 3\n",
        "    num_class = 62\n",
        "    self.convlayers = torch.nn.Sequential(\n",
        "        torch.nn.Conv2d(c, 64, kernel_size=11, stride=4, padding=2),\n",
        "        torch.nn.ReLU(inplace=True),\n",
        "        torch.nn.MaxPool2d(kernel_size=3, stride=2),\n",
        "        torch.nn.Conv2d(64, 192, kernel_size=5, padding=2),\n",
        "        torch.nn.ReLU(inplace=True),\n",
        "        torch.nn.MaxPool2d(kernel_size=3, stride=2),\n",
        "        torch.nn.Conv2d(192, 384, kernel_size=3, padding=1),\n",
        "        torch.nn.ReLU(inplace=True),\n",
        "        torch.nn.Conv2d(384, 256, kernel_size=3, padding=1),\n",
        "        torch.nn.ReLU(inplace=True),\n",
        "        torch.nn.Conv2d(256, 256, kernel_size=3, padding=1),\n",
        "        torch.nn.MaxPool2d(kernel_size=3, stride=2)\n",
        "    )\n",
        "\n",
        "    self.average = torch.nn.AdaptiveAvgPool2d(output_size=(6, 6))\n",
        "\n",
        "    self.fc = torch.nn.Sequential(\n",
        "        torch.nn.Dropout(),\n",
        "        torch.nn.Linear(in_features=256*6*6, out_features=4096),\n",
        "        torch.nn.ReLU(inplace=True),\n",
        "        torch.nn.Dropout(),\n",
        "        torch.nn.Linear(in_features=4096, out_features=4096),\n",
        "        torch.nn.ReLU(inplace=True),\n",
        "        torch.nn.Linear(in_features=4096, out_features=num_class)\n",
        "    )\n",
        "\n",
        "  def forward(self, x):\n",
        "        x = self.convlayers(x)\n",
        "        x = self.average(x)\n",
        "        x = torch.flatten(x, 1)\n",
        "        x = self.fc(x)\n",
        "        return x"
      ],
      "metadata": {
        "id": "h54Yc5Hwp5l0"
      },
      "execution_count": 9,
      "outputs": []
    },
    {
      "cell_type": "code",
      "source": [
        "model = AlexNet()"
      ],
      "metadata": {
        "id": "twGJXl75rs7x"
      },
      "execution_count": 21,
      "outputs": []
    },
    {
      "cell_type": "code",
      "source": [
        "input_size = (3, 224, 224)\n",
        "summary(model, input_size=input_size, device='cpu')"
      ],
      "metadata": {
        "id": "lDGW8QvgrvfF"
      },
      "execution_count": null,
      "outputs": []
    },
    {
      "cell_type": "markdown",
      "source": [
        "# Training the model"
      ],
      "metadata": {
        "id": "8PINSk9Crwk2"
      }
    },
    {
      "cell_type": "code",
      "source": [
        "device = 'cpu'\n",
        "BATCH_SIZE = 64\n",
        "EPOCHS = 20\n",
        "LR = 0.0005"
      ],
      "metadata": {
        "id": "NHUrI7TfrwJg"
      },
      "execution_count": 12,
      "outputs": []
    },
    {
      "cell_type": "code",
      "source": [
        "model.to(device)"
      ],
      "metadata": {
        "id": "owqYvUgDr4Ik"
      },
      "execution_count": null,
      "outputs": []
    },
    {
      "cell_type": "code",
      "source": [
        "# define dataloaders\n",
        "train_dataloader = torch.utils.data.DataLoader(\n",
        "    train_ds, batch_size=BATCH_SIZE,\n",
        "    shuffle=True, num_workers=2\n",
        ")\n",
        "valid_dataloader = torch.utils.data.DataLoader(\n",
        "    valid_ds, batch_size=BATCH_SIZE,\n",
        "    shuffle=False, num_workers=2\n",
        ")\n",
        "test_dataloader = torch.utils.data.DataLoader(\n",
        "    test_ds, batch_size=BATCH_SIZE,\n",
        "    shuffle=False, num_workers=2\n",
        ")"
      ],
      "metadata": {
        "id": "7PWgELXjr_2b"
      },
      "execution_count": 14,
      "outputs": []
    },
    {
      "cell_type": "code",
      "source": [
        "batch = next(iter(train_dataloader))"
      ],
      "metadata": {
        "id": "YvkQoN-Jr6CY"
      },
      "execution_count": 15,
      "outputs": []
    },
    {
      "cell_type": "code",
      "source": [
        "# loss function and optimizer \n",
        "optimizer = torch.optim.Adam(model.parameters(), lr=LR)\n",
        "criterion = torch.nn.CrossEntropyLoss()"
      ],
      "metadata": {
        "id": "CtE_9g9dsDlQ"
      },
      "execution_count": 16,
      "outputs": []
    },
    {
      "cell_type": "code",
      "source": [
        "# metric\n",
        "class AccuracyMetric:\n",
        "    def __init__(self):\n",
        "        self.correct, self.total = None, None\n",
        "        self.reset()\n",
        "        \n",
        "    def update(self, y_pred, y_true):\n",
        "        self.correct += torch.sum(y_pred.argmax(-1) == y_true).item()\n",
        "        self.total += y_true.size(0)\n",
        "        \n",
        "    def compute(self):\n",
        "        return self.correct / self.total\n",
        "    \n",
        "    def reset(self):\n",
        "        self.correct = 0\n",
        "        self.total = 0"
      ],
      "metadata": {
        "id": "TmyDRbejsGSj"
      },
      "execution_count": 17,
      "outputs": []
    },
    {
      "cell_type": "code",
      "source": [
        "# training loop\n",
        "train_loss_history = []\n",
        "train_accuracy_history = []\n",
        "\n",
        "accuracy = AccuracyMetric()\n",
        "\n",
        "for epoch in range(1, EPOCHS + 1):\n",
        "    print(f'[INFO] Epoch: {epoch}')\n",
        "    model.train()\n",
        "\n",
        "    batch_train_loss = []\n",
        "\n",
        "    \n",
        "    for X_batch, y_batch in tqdm(train_dataloader):\n",
        "        # perform single training step\n",
        "        X_batch, y_batch = X_batch.to(device), y_batch.to(device)\n",
        "        y_pred = model(X_batch)\n",
        "        \n",
        "        loss = criterion(y_pred, y_batch)\n",
        "        model.zero_grad()\n",
        "        loss.backward()\n",
        "        optimizer.step()\n",
        "        \n",
        "        accuracy.update(y_pred, y_batch)\n",
        "        batch_train_loss.append(loss.item())\n",
        "\n",
        "    mean_epoch_loss = np.mean(batch_train_loss)\n",
        "    train_accuracy = accuracy.compute()\n",
        "    \n",
        "    train_loss_history.append(mean_epoch_loss)\n",
        "    train_accuracy_history.append(train_accuracy)\n",
        "    accuracy.reset()\n",
        "    \n",
        "    print(f'Train loss: {mean_epoch_loss:0.4f}, Accuracy: {train_accuracy: 0.4f}')\n",
        "\n",
        "    model.eval()\n",
        "    for X_batch, y_batch in tqdm(valid_dataloader):\n",
        "        X_batch, y_batch = X_batch.to(device), y_batch.to(device)\n",
        "        y_pred = model(X_batch)\n",
        "        loss = criterion(y_pred, y_batch)\n",
        "\n",
        "        accuracy.update(y_pred, y_batch)\n",
        "    print(f'Validation Accuracy: {accuracy.compute()}')\n",
        "    accuracy.reset()"
      ],
      "metadata": {
        "id": "AxESVeXosKrU"
      },
      "execution_count": null,
      "outputs": []
    },
    {
      "cell_type": "code",
      "source": [
        "# plot learnign curve\n",
        "plt.plot(train_loss_history)\n",
        "plt.plot(train_accuracy_history)\n",
        "\n",
        "plt.title('Learning curves')\n",
        "plt.xlabel('Epoch #')\n",
        "plt.legend(['Train loss', 'Train accuracy']);"
      ],
      "metadata": {
        "id": "U2S8FxsEsUq_"
      },
      "execution_count": null,
      "outputs": []
    },
    {
      "cell_type": "markdown",
      "source": [
        "# Evaluation"
      ],
      "metadata": {
        "id": "dvswZPtMsVWs"
      }
    },
    {
      "cell_type": "code",
      "source": [
        "model.eval()\n",
        "with torch.no_grad():\n",
        "    for X_batch, y_batch in tqdm(test_dataloader):\n",
        "        X_batch, y_batch = X_batch.to(device), y_batch.to(device)\n",
        "        y_pred = model(X_batch)\n",
        "\n",
        "        accuracy.update(y_pred, y_batch)\n",
        "print(f'Test Accuracy: {accuracy.compute()}')"
      ],
      "metadata": {
        "id": "drA8YzDTsXhI"
      },
      "execution_count": null,
      "outputs": []
    },
    {
      "cell_type": "code",
      "source": [
        "X, Y_true, Y_pred = x.cpu(), y.cpu(), y_pred.argmax(-1).cpu()"
      ],
      "metadata": {
        "id": "hboAtPH51zta"
      },
      "execution_count": null,
      "outputs": []
    },
    {
      "cell_type": "code",
      "source": [
        "for i in range(len(X)):\n",
        "  print(\"True: {}, predicted: {}\".format(class_names[Y_pred[i]], class_names[Y_true[i]]))"
      ],
      "metadata": {
        "id": "6mG4ZY6I10wX"
      },
      "execution_count": null,
      "outputs": []
    }
  ]
}